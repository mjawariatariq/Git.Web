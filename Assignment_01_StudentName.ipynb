{
  "nbformat": 4,
  "nbformat_minor": 0,
  "metadata": {
    "colab": {
      "provenance": [],
      "authorship_tag": "ABX9TyNP8ECG6/fW01DWQ9xx3OP0",
      "include_colab_link": true
    },
    "kernelspec": {
      "name": "python3",
      "display_name": "Python 3"
    },
    "language_info": {
      "name": "python"
    }
  },
  "cells": [
    {
      "cell_type": "markdown",
      "metadata": {
        "id": "view-in-github",
        "colab_type": "text"
      },
      "source": [
        "<a href=\"https://colab.research.google.com/github/mjawariatariq/Git.Web/blob/main/Assignment_01_StudentName.ipynb\" target=\"_parent\"><img src=\"https://colab.research.google.com/assets/colab-badge.svg\" alt=\"Open In Colab\"/></a>"
      ]
    },
    {
      "cell_type": "code",
      "source": [
        "def count():\n",
        "    consonants = 0\n",
        "    vowelcount = 0\n",
        "    vowels = \"aeiouAEIOU\"\n",
        "\n",
        "    sentence = input(\"Enter your sentence: \")\n",
        "\n",
        "    for char in sentence:\n",
        "        if char in vowels:\n",
        "            vowelcount += 1\n",
        "        elif char.isalpha():\n",
        "            consonants += 1\n",
        "\n",
        "    print(\"Vowels:\", vowelcount)\n",
        "    print(\"Consonants:\", consonants)\n",
        "\n",
        "count()\n"
      ],
      "metadata": {
        "colab": {
          "base_uri": "https://localhost:8080/"
        },
        "id": "R7hBStbDeJz2",
        "outputId": "aaafecf0-dd74-43e7-e339-d05bfbc4e89b"
      },
      "execution_count": null,
      "outputs": [
        {
          "output_type": "stream",
          "name": "stdout",
          "text": [
            "Enter your sentence: Hello, World!\n",
            "Vowels: 3\n",
            "Consonants: 7\n"
          ]
        }
      ]
    },
    {
      "cell_type": "code",
      "source": [
        "def file():\n",
        "  filename = input(\"Enter your File Name:\")\n",
        "\n",
        "  if '.' not in filename:\n",
        "        print(\"No extension found.\")\n",
        "        return\n",
        "  extn = filename.split('.')\n",
        "  print(\"Your extension is:\", extn[-1])\n",
        "file()"
      ],
      "metadata": {
        "colab": {
          "base_uri": "https://localhost:8080/"
        },
        "id": "3LUtBVXaeybW",
        "outputId": "bd5a2304-773b-4e4d-beee-9d096d00c3b0"
      },
      "execution_count": null,
      "outputs": [
        {
          "output_type": "stream",
          "name": "stdout",
          "text": [
            "Enter your File Name:document.docx\n",
            "Your extension is: docx\n"
          ]
        }
      ]
    },
    {
      "cell_type": "code",
      "source": [
        "def checkvalue():\n",
        "  Sample_dict = {'a': 100, 'b': 200, 'c': 300}\n",
        "  if 200 in Sample_dict.values():\n",
        "    print(\"Yes 200 value is Exists\")\n",
        "  else:\n",
        "    print(\"The value 200 is not in the list\")\n",
        "checkvalue()"
      ],
      "metadata": {
        "colab": {
          "base_uri": "https://localhost:8080/"
        },
        "id": "kGCH43xI0WUf",
        "outputId": "f91e90b4-5c2a-4803-fa8f-1ddff77fd40f"
      },
      "execution_count": null,
      "outputs": [
        {
          "output_type": "stream",
          "name": "stdout",
          "text": [
            "Yes 200 value is Exists\n"
          ]
        }
      ]
    },
    {
      "cell_type": "code",
      "source": [
        "def nestedtuple():\n",
        "  tuple1 = (\"Orange\", [10, 20, 30], (5, 15, 25))\n",
        "  print(tuple1[1][1])\n",
        "nestedtuple()\n"
      ],
      "metadata": {
        "colab": {
          "base_uri": "https://localhost:8080/"
        },
        "id": "LNj_fMMb63-A",
        "outputId": "624d1f89-38d7-4bd4-c83d-aa00a7288230"
      },
      "execution_count": null,
      "outputs": [
        {
          "output_type": "stream",
          "name": "stdout",
          "text": [
            "20\n"
          ]
        }
      ]
    },
    {
      "cell_type": "code",
      "source": [
        "def calculatebodymass():\n",
        "  weight = input(\"Enter you weight:\")\n",
        "  weight = float(weight)*0.453\n",
        "  height = input(\"Enter you height:\")\n",
        "  height = float(height)*0.304\n",
        "  BMI = (weight) / (height*2)\n",
        "  print(\"Your BMI calculator is\", BMI)\n",
        "  if BMI < 18.5:\n",
        "    print(\"Underweight\")\n",
        "  elif 18.5 <= BMI < 25:\n",
        "    print(\"Normal weight\")\n",
        "  elif 25 <= BMI < 30:\n",
        "    print(\"Overweight\")\n",
        "  elif BMI >-30:\n",
        "    print(\"Obese\")\n",
        "  else:\n",
        "    print(\"Invalid Output\")\n",
        "calculatebodymass()\n"
      ],
      "metadata": {
        "colab": {
          "base_uri": "https://localhost:8080/"
        },
        "id": "pPGlK-8AB2Ax",
        "outputId": "fa464550-4a2e-4e0c-ca2b-bc6a247204a4"
      },
      "execution_count": null,
      "outputs": [
        {
          "output_type": "stream",
          "name": "stdout",
          "text": [
            "Enter you weight:48\n",
            "Enter you height:5.3\n",
            "Your BMI calculator is 6.747765640516385\n",
            "Underweight\n"
          ]
        }
      ]
    },
    {
      "cell_type": "code",
      "source": [
        "def count_character():\n",
        "    string = input(\"Enter your String: \")\n",
        "    frequency_dict = {}\n",
        "    for char in string:\n",
        "        if char in frequency_dict:\n",
        "            frequency_dict[char] += 1\n",
        "        else:\n",
        "            frequency_dict[char] = 1\n",
        "    print(frequency_dict)\n",
        "count_character()\n"
      ],
      "metadata": {
        "id": "7GfPU0McQmZS",
        "colab": {
          "base_uri": "https://localhost:8080/"
        },
        "outputId": "2af4034a-9d90-4fd1-9b0c-f9d4b94a7bb7"
      },
      "execution_count": null,
      "outputs": [
        {
          "output_type": "stream",
          "name": "stdout",
          "text": [
            "Enter your String: Jawaria\n",
            "{'J': 1, 'a': 3, 'w': 1, 'r': 1, 'i': 1}\n"
          ]
        }
      ]
    },
    {
      "cell_type": "code",
      "source": [
        "def check_email():\n",
        "  email = input(\"Enter your Email:\")\n",
        "  if '@' in email and (email.endswith('.net') or email.endswith('.com')):\n",
        "    print(\"Valid Email\")\n",
        "  else:\n",
        "        print(\"Invalid Email\")\n",
        "check_email()"
      ],
      "metadata": {
        "id": "rG3kEOWSynb0",
        "colab": {
          "base_uri": "https://localhost:8080/"
        },
        "outputId": "989cb168-68c5-43fe-91e8-15fdd6cc27ce"
      },
      "execution_count": null,
      "outputs": [
        {
          "output_type": "stream",
          "name": "stdout",
          "text": [
            "Enter your Email:mjawariatariq@gmail.com\n",
            "Valid Email\n"
          ]
        }
      ]
    },
    {
      "cell_type": "code",
      "source": [
        "def sum_of_elements():\n",
        "  elements = ((1, 2, 3), (4, 5, 6), (7, 8, 9))\n",
        "  for inner in elements:\n",
        "    print(sum(inner))\n",
        "sum_of_elements()"
      ],
      "metadata": {
        "colab": {
          "base_uri": "https://localhost:8080/"
        },
        "id": "oJaCVRW4IHAW",
        "outputId": "b6da5e72-460e-4caa-85d1-195c8ed9c02d"
      },
      "execution_count": null,
      "outputs": [
        {
          "output_type": "stream",
          "name": "stdout",
          "text": [
            "6\n",
            "15\n",
            "24\n"
          ]
        }
      ]
    },
    {
      "cell_type": "code",
      "source": [
        "def prime_number():\n",
        "    numbers = [1, 2, 3, 4, 5, 6, 7, 8, 9, 10]\n",
        "    prime_numbers = []\n",
        "    for num in numbers:\n",
        "        if num > 1:\n",
        "            for i in range(2, num):\n",
        "                if (num % i) == 0:\n",
        "                    break\n",
        "            else:\n",
        "                prime_numbers.append(num)\n",
        "        if len(prime_numbers) == 3:\n",
        "            break\n",
        "    print(\"First three prime numbers:\", prime_numbers)\n",
        "prime_number()\n"
      ],
      "metadata": {
        "colab": {
          "base_uri": "https://localhost:8080/"
        },
        "id": "e8T7H4hhQmtY",
        "outputId": "7d6d54a5-1175-4463-97ea-32c7547a3623"
      },
      "execution_count": null,
      "outputs": [
        {
          "output_type": "stream",
          "name": "stdout",
          "text": [
            "First three prime numbers: [2, 3, 5]\n"
          ]
        }
      ]
    },
    {
      "cell_type": "code",
      "source": [
        "def sort_dict_by_grade(students):\n",
        "    return sorted(students, key=lambda student: student[\"grade\"], reverse=True)\n",
        "\n",
        "students = [\n",
        "    {\"name\": \"John\", \"age\": 20, \"grade\": 85},\n",
        "    {\"name\": \"Alice\", \"age\": 22, \"grade\": 90},\n",
        "    {\"name\": \"Bob\", \"age\": 21, \"grade\": 80}\n",
        "]\n",
        "\n",
        "sorted_students = sort_dict_by_grade(students)\n",
        "print(sorted_students)\n"
      ],
      "metadata": {
        "colab": {
          "base_uri": "https://localhost:8080/"
        },
        "id": "Tl0g2bwZYh5g",
        "outputId": "0788b63d-d7e4-421a-aabd-89bb46ab3c68"
      },
      "execution_count": null,
      "outputs": [
        {
          "output_type": "stream",
          "name": "stdout",
          "text": [
            "[{'name': 'Alice', 'age': 22, 'grade': 90}, {'name': 'John', 'age': 20, 'grade': 85}, {'name': 'Bob', 'age': 21, 'grade': 80}]\n"
          ]
        }
      ]
    },
    {
      "cell_type": "code",
      "source": [
        "def separate_commas():\n",
        "      num = input(\"Enter your Number:\")\n",
        "      print(','.join(num))\n",
        "separate_commas()"
      ],
      "metadata": {
        "colab": {
          "base_uri": "https://localhost:8080/"
        },
        "id": "vEzExod3Fu_W",
        "outputId": "bb487a2f-8dd3-4fbc-cba2-ceda26f4f106"
      },
      "execution_count": 5,
      "outputs": [
        {
          "output_type": "stream",
          "name": "stdout",
          "text": [
            "Enter your Number7878\n",
            "7,8,7,8\n"
          ]
        }
      ]
    },
    {
      "cell_type": "code",
      "source": [
        "def common_elements():\n",
        "  list1 = input(\"Enter your list:\").split()\n",
        "  list2 = input(\"Enter your list:\").split()\n",
        "  common_elements = []\n",
        "  for i in range(len(list1)):\n",
        "    for j in range(len(list2)):\n",
        "      if list1[i] == list2[j]:\n",
        "        common_elements.append(list1[i])\n",
        "  print(common_elements)\n",
        "common_elements()"
      ],
      "metadata": {
        "colab": {
          "base_uri": "https://localhost:8080/"
        },
        "id": "ki0ur_d9IyxN",
        "outputId": "1696e48c-a1df-4436-9d83-fd7a26e8bd3f"
      },
      "execution_count": 20,
      "outputs": [
        {
          "output_type": "stream",
          "name": "stdout",
          "text": [
            "Enter your list:1 2 3 4 5\n",
            "Enter your list:4 5 6 7 8\n",
            "['4', '5']\n"
          ]
        }
      ]
    },
    {
      "cell_type": "code",
      "source": [
        "def merge_dict():\n",
        "  dict1 = {'a': 5, 'b': 10, 'c': 15}\n",
        "  dict2 = {'b': 20, 'c': 25, 'd': 30}\n",
        "  merge_dict  = dict1.copy()\n",
        "  for key,value in dict2.items():\n",
        "    if key in merge_dict:\n",
        "      merge_dict[key] += value\n",
        "    else:\n",
        "      merge_dict[key] = value\n",
        "      print(merge_dict)\n",
        "merge_dict()"
      ],
      "metadata": {
        "colab": {
          "base_uri": "https://localhost:8080/"
        },
        "id": "IQwKeTQtp3Uq",
        "outputId": "af4f4aa6-1a6f-4f86-af3c-ec3a69e7717d"
      },
      "execution_count": 61,
      "outputs": [
        {
          "output_type": "stream",
          "name": "stdout",
          "text": [
            "{'a': 5, 'b': 30, 'c': 40, 'd': 30}\n"
          ]
        }
      ]
    },
    {
      "cell_type": "code",
      "source": [
        "# 14.Write a program that takes two numbers, base and exponent, and calculates the result\n",
        "# of raising base to the power of exponent using the ** operator. (5 marks)\n",
        "# Input: Base: 2\n",
        "# Exponent: 3\n",
        "# Result: 8\n",
        "\n",
        "def raising_base():\n",
        "  base = int(input(\"Enter your Base:\"))\n",
        "  exponent = int(input(\"Enter your Exponent:\"))\n",
        "  result = (base**exponent)\n",
        "  print(result)\n",
        "raising_base()\n"
      ],
      "metadata": {
        "colab": {
          "base_uri": "https://localhost:8080/"
        },
        "id": "kK0jiqtiqqPj",
        "outputId": "43091e7e-7edb-4ad1-f4e2-8ab4af973072"
      },
      "execution_count": 76,
      "outputs": [
        {
          "output_type": "stream",
          "name": "stdout",
          "text": [
            "Enter your Base:2\n",
            "Enter your Exponent:3\n",
            "8\n"
          ]
        }
      ]
    },
    {
      "cell_type": "code",
      "source": [
        "def temperature():\n",
        "  celsius = input(\"Enter Temperature to convert it into Fahrenheit:\")\n",
        "  celsius = float(celsius)\n",
        "  fahrenheit = (celsius * 9/5) + 32\n",
        "  print(fahrenheit)\n",
        "temperature()"
      ],
      "metadata": {
        "colab": {
          "base_uri": "https://localhost:8080/"
        },
        "id": "Hf1mKgXuqzO3",
        "outputId": "181ed55b-992f-4f20-e3fc-3198490b3108"
      },
      "execution_count": 71,
      "outputs": [
        {
          "output_type": "stream",
          "name": "stdout",
          "text": [
            "Enter Temperature to convert it into Fahrenheit:19\n",
            "66.2\n"
          ]
        }
      ]
    },
    {
      "cell_type": "code",
      "source": [
        "def reverse():\n",
        "  numbers = input(\"Enter your list:\")\n",
        "  print(numbers[::-1])\n",
        "reverse()"
      ],
      "metadata": {
        "colab": {
          "base_uri": "https://localhost:8080/"
        },
        "id": "HFdGWZ8suvqF",
        "outputId": "b3aa3a73-17eb-4573-af16-805324eae8ff"
      },
      "execution_count": 82,
      "outputs": [
        {
          "output_type": "stream",
          "name": "stdout",
          "text": [
            "Enter your list:5 6 7 8 \n",
            " 8 7 6 5\n"
          ]
        }
      ]
    },
    {
      "cell_type": "code",
      "source": [
        "def reverse_string():\n",
        "  input_string = \"Hello World\"\n",
        "  words = input_string.split()\n",
        "  reversed_words = reversed(words)\n",
        "  output_string = \" \".join(reversed_words)\n",
        "  print(output_string)\n",
        "reverse_string()\n"
      ],
      "metadata": {
        "colab": {
          "base_uri": "https://localhost:8080/"
        },
        "id": "FOQbH52n1SEK",
        "outputId": "71c57aea-7b78-469f-9f49-6cf9b5798764"
      },
      "execution_count": 5,
      "outputs": [
        {
          "output_type": "stream",
          "name": "stdout",
          "text": [
            "World Hello\n"
          ]
        }
      ]
    },
    {
      "cell_type": "code",
      "source": [
        "def palindrome():\n",
        "  palindrome = input(\"Enter your Palindrome Word:\")\n",
        "  reverse = palindrome[::-1]\n",
        "  if palindrome == reverse:\n",
        "    print(\"Yes! It's Palindrome\")\n",
        "  else:\n",
        "      print(\"No It is not Palindrome\")\n",
        "palindrome()"
      ],
      "metadata": {
        "colab": {
          "base_uri": "https://localhost:8080/"
        },
        "id": "FmR80ynXOjnn",
        "outputId": "89091a38-5b6d-4698-902f-22204e46c770"
      },
      "execution_count": 8,
      "outputs": [
        {
          "output_type": "stream",
          "name": "stdout",
          "text": [
            "Enter your Palindrome Word:radar\n",
            "Yes! It's Palindrome\n"
          ]
        }
      ]
    },
    {
      "cell_type": "code",
      "source": [
        "def even_numbers():\n",
        "  numbers = [2, 5, 3, 7, 9, 53, 10, 32, 65, 76, 98]\n",
        "  return [num for num in numbers if num % 2 == 0]\n",
        "  print(numbers)\n",
        "even_numbers()"
      ],
      "metadata": {
        "colab": {
          "base_uri": "https://localhost:8080/"
        },
        "id": "flGDqFe7Rb8C",
        "outputId": "f73c7944-bafa-4023-9e99-be5fbae92a32"
      },
      "execution_count": 11,
      "outputs": [
        {
          "output_type": "execute_result",
          "data": {
            "text/plain": [
              "[2, 10, 32, 76, 98]"
            ]
          },
          "metadata": {},
          "execution_count": 11
        }
      ]
    },
    {
      "cell_type": "code",
      "source": [
        "def dict_key_values():\n",
        "  keys = ['a', 'b', 'c']\n",
        "  values = [1, 2, 3]\n",
        "result_dict = {}\n",
        "for i in range(len(keys)):\n",
        "    result_dict[keys[i]] = values[i]\n",
        "print(result_dict)\n",
        "dict_key_values()\n"
      ],
      "metadata": {
        "colab": {
          "base_uri": "https://localhost:8080/"
        },
        "id": "yWagMLnXSlVO",
        "outputId": "13f56dbb-e4c9-40a1-b91a-7efb7248917a"
      },
      "execution_count": 27,
      "outputs": [
        {
          "output_type": "stream",
          "name": "stdout",
          "text": [
            "{'a': 1, 'b': 2, 'c': 3}\n"
          ]
        }
      ]
    }
  ]
}