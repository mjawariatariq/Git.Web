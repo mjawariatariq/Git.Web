{
  "nbformat": 4,
  "nbformat_minor": 0,
  "metadata": {
    "colab": {
      "provenance": [],
      "authorship_tag": "ABX9TyP1o7heCqu0fS/e736qAvPY",
      "include_colab_link": true
    },
    "kernelspec": {
      "name": "python3",
      "display_name": "Python 3"
    },
    "language_info": {
      "name": "python"
    }
  },
  "cells": [
    {
      "cell_type": "markdown",
      "metadata": {
        "id": "view-in-github",
        "colab_type": "text"
      },
      "source": [
        "<a href=\"https://colab.research.google.com/github/mjawariatariq/Git.Web/blob/main/Assignment_01_StudentName.ipynb\" target=\"_parent\"><img src=\"https://colab.research.google.com/assets/colab-badge.svg\" alt=\"Open In Colab\"/></a>"
      ]
    },
    {
      "cell_type": "code",
      "source": [
        "def count():\n",
        "    consonants = 0\n",
        "    vowelcount = 0\n",
        "    vowels = \"aeiouAEIOU\"\n",
        "\n",
        "    sentence = input(\"Enter your sentence: \")\n",
        "\n",
        "    for char in sentence:\n",
        "        if char in vowels:\n",
        "            vowelcount += 1\n",
        "        elif char.isalpha():\n",
        "            consonants += 1\n",
        "\n",
        "    print(\"Vowels:\", vowelcount)\n",
        "    print(\"Consonants:\", consonants)\n",
        "\n",
        "count()\n"
      ],
      "metadata": {
        "colab": {
          "base_uri": "https://localhost:8080/"
        },
        "id": "R7hBStbDeJz2",
        "outputId": "aaafecf0-dd74-43e7-e339-d05bfbc4e89b"
      },
      "execution_count": 35,
      "outputs": [
        {
          "output_type": "stream",
          "name": "stdout",
          "text": [
            "Enter your sentence: Hello, World!\n",
            "Vowels: 3\n",
            "Consonants: 7\n"
          ]
        }
      ]
    },
    {
      "cell_type": "code",
      "source": [
        "def file():\n",
        "  filename = input(\"Enter your File Name:\")\n",
        "\n",
        "  if '.' not in filename:\n",
        "        print(\"No extension found.\")\n",
        "        return\n",
        "  extn = filename.split('.')\n",
        "  print(\"Your extension is:\", extn[-1])\n",
        "file()"
      ],
      "metadata": {
        "colab": {
          "base_uri": "https://localhost:8080/"
        },
        "id": "3LUtBVXaeybW",
        "outputId": "bd5a2304-773b-4e4d-beee-9d096d00c3b0"
      },
      "execution_count": 78,
      "outputs": [
        {
          "output_type": "stream",
          "name": "stdout",
          "text": [
            "Enter your File Name:document.docx\n",
            "Your extension is: docx\n"
          ]
        }
      ]
    },
    {
      "cell_type": "code",
      "source": [
        "def checkvalue():\n",
        "  Sample_dict = {'a': 100, 'b': 200, 'c': 300}\n",
        "  if 200 in Sample_dict.values():\n",
        "    print(\"Yes 200 value is Exists\")\n",
        "  else:\n",
        "    print(\"The value 200 is not in the list\")\n",
        "checkvalue()"
      ],
      "metadata": {
        "colab": {
          "base_uri": "https://localhost:8080/"
        },
        "id": "kGCH43xI0WUf",
        "outputId": "f91e90b4-5c2a-4803-fa8f-1ddff77fd40f"
      },
      "execution_count": 82,
      "outputs": [
        {
          "output_type": "stream",
          "name": "stdout",
          "text": [
            "Yes 200 value is Exists\n"
          ]
        }
      ]
    },
    {
      "cell_type": "code",
      "source": [
        "def nestedtuple():\n",
        "  tuple1 = (\"Orange\", [10, 20, 30], (5, 15, 25))\n",
        "  print(tuple1[1][1])\n",
        "nestedtuple()\n"
      ],
      "metadata": {
        "colab": {
          "base_uri": "https://localhost:8080/"
        },
        "id": "LNj_fMMb63-A",
        "outputId": "624d1f89-38d7-4bd4-c83d-aa00a7288230"
      },
      "execution_count": 102,
      "outputs": [
        {
          "output_type": "stream",
          "name": "stdout",
          "text": [
            "20\n"
          ]
        }
      ]
    },
    {
      "cell_type": "code",
      "source": [
        "def calculatebodymass():\n",
        "  weight = input(\"Enter you weight:\")\n",
        "  weight = float(weight)*0.453\n",
        "  height = input(\"Enter you height:\")\n",
        "  height = float(height)*0.304\n",
        "  BMI = (weight) / (height*2)\n",
        "  print(\"Your BMI calculator is\", BMI)\n",
        "  if BMI < 18.5:\n",
        "    print(\"Underweight\")\n",
        "  elif 18.5 <= BMI < 25:\n",
        "    print(\"Normal weight\")\n",
        "  elif 25 <= BMI < 30:\n",
        "    print(\"Overweight\")\n",
        "  elif BMI >-30:\n",
        "    print(\"Obese\")\n",
        "  else:\n",
        "    print(\"Invalid Output\")\n",
        "calculatebodymass()\n"
      ],
      "metadata": {
        "colab": {
          "base_uri": "https://localhost:8080/"
        },
        "id": "pPGlK-8AB2Ax",
        "outputId": "fa464550-4a2e-4e0c-ca2b-bc6a247204a4"
      },
      "execution_count": 110,
      "outputs": [
        {
          "output_type": "stream",
          "name": "stdout",
          "text": [
            "Enter you weight:48\n",
            "Enter you height:5.3\n",
            "Your BMI calculator is 6.747765640516385\n",
            "Underweight\n"
          ]
        }
      ]
    },
    {
      "cell_type": "code",
      "source": [],
      "metadata": {
        "id": "7GfPU0McQmZS"
      },
      "execution_count": null,
      "outputs": []
    }
  ]
}